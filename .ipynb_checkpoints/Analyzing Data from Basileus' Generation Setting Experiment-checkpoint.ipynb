{
 "cells": [
  {
   "cell_type": "markdown",
   "id": "9e55df65",
   "metadata": {},
   "source": [
    "# Analyzing Data from Basileus' Generation Setting Experiment\n",
    "\n",
    "*Put stuff here explaining on the methodology (\"what was done\")...*\n",
    "\n",
    "Data can be obtained [here](https://docs.google.com/spreadsheets/d/1a-oHJdBUvwTUam7Y9U9vqEvrcd4fK2q3oqm3H4iI4G0/edit#gid=116999801)"
   ]
  },
  {
   "cell_type": "markdown",
   "id": "8f7076a8",
   "metadata": {},
   "source": [
    "## Variables in the dataset\n",
    "\n",
    "Variable|Meaning|Target\n",
    "-|-|-\n",
    "Randomness|Generator Setting|Dependent Variable\n",
    "Grammar/Style/Spelling|Your writing can have no spelling or grammar mistakes but still be awkward, clumsy, and hard to read. Style can make your writing easier and more enjoyable to read. Style covers issues like repeated sentence starts, clunky word order and phrasing, hidden verbs, and more.|Higher is better\n",
    "Readability Grade|A readability score is a measure of how easy your text is to read. Your readability score shows what grade level of students could understand and engage with your writing. For instance, a score of 7 means that seventh-grade students could read your work.|Lower is better\n",
    "Glue Index|Glue words are words that are common, low-quality, or nondescript, and too many of them can make your sentences \"sticky\". Sticky sentences slow your reader down; try to avoid them.|Lower is better"
   ]
  },
  {
   "cell_type": "markdown",
   "id": "eafa97c5",
   "metadata": {},
   "source": [
    "## Reading in the data"
   ]
  },
  {
   "cell_type": "code",
   "execution_count": 33,
   "id": "88ecbf25",
   "metadata": {},
   "outputs": [
    {
     "name": "stdout",
     "output_type": "stream",
     "text": [
      "   Randomness  Max Length  Min Length  Top-K  Nucleus Tail-Free  Penalty  \\\n",
      "0         0.6          40          20     60      0.9  disabled      2.8   \n",
      "1         0.6          40          20     60      0.9  disabled      2.8   \n",
      "2         0.6          40          20     60      0.9  disabled      2.8   \n",
      "\n",
      "   Range  Slope                                                Raw  Goals  \\\n",
      "0    512   3.33  The colony's central courtyard was a vast expa...    NaN   \n",
      "1    512   3.33  The hallways were empty save for a few people ...    NaN   \n",
      "2    512   3.33  The corridor outside the dormitory was narrow,...    NaN   \n",
      "\n",
      "   Improvements Grammar/Style/Spelling  Sentence Length  Readability Grade  \n",
      "0           NaN                    74%              NaN                  5  \n",
      "1           NaN                    77%              NaN                  5  \n",
      "2           NaN                    65%              NaN                  6  \n",
      "   Sentence Variety  Passive Voice  Complex Paragraphs  Conjunction Starts  \\\n",
      "0               NaN            NaN                 NaN                 NaN   \n",
      "1               NaN            NaN                 NaN                 NaN   \n",
      "2               NaN            NaN                 NaN                 NaN   \n",
      "\n",
      "   Slow Pacing  Very Long Sentences Glue Index  Emotion Tells  -ing Starts  \\\n",
      "0          NaN                  NaN        44%            NaN          NaN   \n",
      "1          NaN                  NaN        47%            NaN          NaN   \n",
      "2          NaN                  NaN        46%            NaN          NaN   \n",
      "\n",
      "   Dialogue Tags  Unusual Dialogue Tags  Dialogue Tags with Adverbs  \\\n",
      "0            NaN                    NaN                         NaN   \n",
      "1            NaN                    NaN                         NaN   \n",
      "2            NaN                    NaN                         NaN   \n",
      "\n",
      "   Weak Adverbs  \n",
      "0           NaN  \n",
      "1           NaN  \n",
      "2           NaN  \n"
     ]
    }
   ],
   "source": [
    "import pandas as pd\n",
    "import matplotlib.pyplot as plt\n",
    "import seaborn as sns\n",
    "\n",
    "# Read in data of the GSheet document (only 1 minute tab now)\n",
    "nai = pd.read_csv(\n",
    "    'https://docs.google.com/spreadsheets/d/1a-oHJdBUvwTUam7Y9U9vqEvrcd4fK2q3oqm3H4iI4G0/export?format=csv&gid=1831608934', header=1)\n",
    "\n",
    "print(nai.iloc[:,:15].head(3))\n",
    "print(nai.iloc[:,15:].head(3))"
   ]
  },
  {
   "cell_type": "code",
   "execution_count": 34,
   "id": "58368f20",
   "metadata": {},
   "outputs": [
    {
     "name": "stdout",
     "output_type": "stream",
     "text": [
      "First 5 lines of data:\n",
      "\n",
      "   Randomness                                                Raw  \\\n",
      "0         0.6  The colony's central courtyard was a vast expa...   \n",
      "1         0.6  The hallways were empty save for a few people ...   \n",
      "2         0.6  The corridor outside the dormitory was narrow,...   \n",
      "3         0.6  The dormitory halls were quiet, the colonists ...   \n",
      "4         0.6  The corridor outside her room was empty except...   \n",
      "\n",
      "  Grammar/Style/Spelling  Readability Grade Glue Index  \n",
      "0                    74%                  5        44%  \n",
      "1                    77%                  5        47%  \n",
      "2                    65%                  6        46%  \n",
      "3                    83%                  4        41%  \n",
      "4                    91%                  8        43%  \n",
      "\\Dataframe Info:\n",
      "\n",
      "<class 'pandas.core.frame.DataFrame'>\n",
      "RangeIndex: 90 entries, 0 to 89\n",
      "Data columns (total 5 columns):\n",
      " #   Column                  Non-Null Count  Dtype  \n",
      "---  ------                  --------------  -----  \n",
      " 0   Randomness              90 non-null     float64\n",
      " 1   Raw                     90 non-null     object \n",
      " 2   Grammar/Style/Spelling  90 non-null     object \n",
      " 3   Readability Grade       90 non-null     int64  \n",
      " 4   Glue Index              90 non-null     object \n",
      "dtypes: float64(1), int64(1), object(3)\n",
      "memory usage: 3.6+ KB\n",
      "None\n"
     ]
    }
   ],
   "source": [
    "# drop columns without data (and data without variance)\n",
    "nai = nai[[\"Randomness\", \"Raw\", \"Grammar/Style/Spelling\", \"Readability Grade\", \"Glue Index\"]]\n",
    "\n",
    "print(\"First 5 lines of data:\\n\")\n",
    "print(nai.head(5))\n",
    "print(\"\\Dataframe Info:\\n\")\n",
    "print(nai.info())"
   ]
  },
  {
   "cell_type": "code",
   "execution_count": 35,
   "id": "7f51e4c5",
   "metadata": {
    "scrolled": true
   },
   "outputs": [
    {
     "name": "stdout",
     "output_type": "stream",
     "text": [
      "<class 'pandas.core.frame.DataFrame'>\n",
      "RangeIndex: 90 entries, 0 to 89\n",
      "Data columns (total 5 columns):\n",
      " #   Column                  Non-Null Count  Dtype  \n",
      "---  ------                  --------------  -----  \n",
      " 0   Randomness              90 non-null     float64\n",
      " 1   Raw                     90 non-null     object \n",
      " 2   Grammar/Style/Spelling  90 non-null     float64\n",
      " 3   Readability Grade       90 non-null     int64  \n",
      " 4   Glue Index              90 non-null     float64\n",
      "dtypes: float64(3), int64(1), object(1)\n",
      "memory usage: 3.6+ KB\n"
     ]
    }
   ],
   "source": [
    "# Convert % strings to float\n",
    "nai[[\"Grammar/Style/Spelling\", \"Glue Index\"]] = nai[[\"Grammar/Style/Spelling\", \"Glue Index\"]].astype(str).replace({\"\\%\":\"\"}, regex=True).astype(float)\n",
    "nai.info()"
   ]
  },
  {
   "cell_type": "markdown",
   "id": "7e35ec83",
   "metadata": {},
   "source": [
    "## Let us make some first graphs (because why not?)\n",
    "\n",
    "Note that once Basileus has collected more data the graphs below should probably be replaced by line graphs (and we should start to do proper inferential analysis)"
   ]
  },
  {
   "cell_type": "code",
   "execution_count": 41,
   "id": "4f44839b",
   "metadata": {
    "scrolled": true
   },
   "outputs": [
    {
     "data": {
      "image/png": "[encoded data removed]",
      "text/plain": [
       "<Figure size 432x288 with 1 Axes>"
      ]
     },
     "metadata": {
      "needs_background": "light"
     },
     "output_type": "display_data"
    }
   ],
   "source": [
    "%matplotlib inline\n",
    "\n",
    "# Graphs for percentage ratings\n",
    "sns.regplot(data= nai, y =\"Grammar/Style/Spelling\", x = \"Randomness\", lowess = True)\n",
    "# plt.legend(title = \"Randomness\", fontsize=14, loc = \"upper right\")\n",
    "# plt.xlabel(\"Rating in %\", fontsize=14)\n",
    "plt.show()"
   ]
  },
  {
   "cell_type": "code",
   "execution_count": null,
   "id": "26476009",
   "metadata": {},
   "outputs": [],
   "source": [
    "# Graphs for rest\n",
    "target_cols_grade = [\"Readability Grade\", \"Sentence Variety\", \"Passive Voice\"]\n",
    "\n",
    "fig, axes = plt.subplots(nrows=1, ncols=3, figsize=(15, 7))\n",
    "\n",
    "ax1 = nai_avg.loc[target_cols_grade].plot.bar(fontsize = 14, yerr = nai_std.loc[target_cols_grade],ax=axes[0])\n",
    "ax1.legend(title = \"Randomness\", fontsize=14, loc = \"upper right\")\n",
    "ax1.set_ylabel(\"Grade\", fontsize=14)\n",
    "ax1.tick_params(axis='x', rotation=45)\n",
    "\n",
    "ax2 = nai_avg.loc[\"Sentence Length\"].plot.bar(fontsize = 14, yerr = nai_std.loc[\"Sentence Length\"],ax=axes[1])\n",
    "ax2.set_ylabel(\"Sentence Length\", fontsize=14)\n",
    "ax2.set_xlabel(\"Randomness\", fontsize=14)\n",
    "ax2.tick_params(axis='x', rotation=0)\n",
    "\n",
    "ax3 = nai_avg.loc[\"Weak Adverbs\"].plot.bar(fontsize = 14, yerr = nai_std.loc[\"Weak Adverbs\"],ax=axes[2])\n",
    "ax3.set_ylabel(\"Weak Adverbs\", fontsize=14)\n",
    "ax3.set_xlabel(\"Randomness\", fontsize=14)\n",
    "ax3.tick_params(axis='x', rotation=0)"
   ]
  }
 ],
 "metadata": {
  "kernelspec": {
   "display_name": "Python 3",
   "language": "python",
   "name": "python3"
  },
  "language_info": {
   "codemirror_mode": {
    "name": "ipython",
    "version": 3
   },
   "file_extension": ".py",
   "mimetype": "text/x-python",
   "name": "python",
   "nbconvert_exporter": "python",
   "pygments_lexer": "ipython3",
   "version": "3.8.10"
  },
  "toc": {
   "base_numbering": 1,
   "nav_menu": {},
   "number_sections": false,
   "sideBar": true,
   "skip_h1_title": false,
   "title_cell": "Table of Contents",
   "title_sidebar": "Contents",
   "toc_cell": false,
   "toc_position": {},
   "toc_section_display": true,
   "toc_window_display": false
  },
  "varInspector": {
   "cols": {
    "lenName": 16,
    "lenType": 16,
    "lenVar": 40
   },
   "kernels_config": {
    "python": {
     "delete_cmd_postfix": "",
     "delete_cmd_prefix": "del ",
     "library": "var_list.py",
     "varRefreshCmd": "print(var_dic_list())"
    },
    "r": {
     "delete_cmd_postfix": ") ",
     "delete_cmd_prefix": "rm(",
     "library": "var_list.r",
     "varRefreshCmd": "cat(var_dic_list()) "
    }
   },
   "types_to_exclude": [
    "module",
    "function",
    "builtin_function_or_method",
    "instance",
    "_Feature"
   ],
   "window_display": false
  }
 },
 "nbformat": 4,
 "nbformat_minor": 5
}
